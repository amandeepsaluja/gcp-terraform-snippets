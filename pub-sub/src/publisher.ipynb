{
 "cells": [
  {
   "cell_type": "code",
   "execution_count": 4,
   "metadata": {},
   "outputs": [
    {
     "name": "stdout",
     "output_type": "stream",
     "text": [
      "9236028039626233\n",
      "9235988708747933\n",
      "9236102504479255\n",
      "9236030841407931\n",
      "9236146960419675\n",
      "9235898061166214\n",
      "8858292961221113\n",
      "9236063456351634\n",
      "9235850797797206\n",
      "9235975955617538\n",
      "8858445970337996\n",
      "9236162817685292\n",
      "9235847676706151\n",
      "9236012806593445\n",
      "9235997564736580\n",
      "9235956138841026\n",
      "9235975112997503\n",
      "9235993700891232\n",
      "9236032140360184\n",
      "9236127187885630\n"
     ]
    }
   ],
   "source": [
    "# importing packages\n",
    "import json\n",
    "import yaml\n",
    "\n",
    "from google.cloud.pubsub import PublisherClient\n",
    "from time import sleep\n",
    "\n",
    "# parsing configuration\n",
    "with open(\"config.yaml\", \"r\") as yaml_file:\n",
    "    config_data = yaml.load(yaml_file, Loader=yaml.FullLoader)\n",
    "\n",
    "# creating publisher client\n",
    "publisher_client = PublisherClient()\n",
    "\n",
    "# creating topic path\n",
    "topic_path = publisher_client.topic_path(project=config_data['prject_id'],\n",
    "                                         topic=config_data['topic_id'])\n",
    "\n",
    "# publishing messages\n",
    "for i in range(1030,1050):\n",
    "\n",
    "    # generate and encode data\n",
    "    data = {\"id\": i, \"message\": f\"test {i}\"}\n",
    "    encoded_data = json.dumps(data).encode(\"utf-8\")\n",
    "\n",
    "    sleep(5)\n",
    "\n",
    "    # publish a message.\n",
    "    publish_future = publisher_client.publish(topic_path,\n",
    "                                              encoded_data)\n",
    "    \n",
    "    print(publish_future.result())"
   ]
  },
  {
   "cell_type": "code",
   "execution_count": null,
   "metadata": {},
   "outputs": [],
   "source": []
  }
 ],
 "metadata": {
  "kernelspec": {
   "display_name": "Python 3",
   "language": "python",
   "name": "python3"
  },
  "language_info": {
   "codemirror_mode": {
    "name": "ipython",
    "version": 3
   },
   "file_extension": ".py",
   "mimetype": "text/x-python",
   "name": "python",
   "nbconvert_exporter": "python",
   "pygments_lexer": "ipython3",
   "version": "3.11.4"
  }
 },
 "nbformat": 4,
 "nbformat_minor": 2
}
