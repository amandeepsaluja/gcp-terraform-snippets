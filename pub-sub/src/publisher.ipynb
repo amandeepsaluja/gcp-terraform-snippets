{
 "cells": [
  {
   "cell_type": "code",
   "execution_count": 16,
   "metadata": {},
   "outputs": [
    {
     "name": "stdout",
     "output_type": "stream",
     "text": [
      "8855299517345076\n",
      "8855213963277640\n",
      "9234345882866429\n",
      "9234233238471153\n",
      "8855140449263091\n",
      "9234386922939817\n",
      "8855222578723938\n",
      "8855212512938491\n",
      "9234403757619756\n",
      "8855117236170733\n"
     ]
    }
   ],
   "source": [
    "# importing packages\n",
    "import json\n",
    "import yaml\n",
    "\n",
    "from google.cloud.pubsub import PublisherClient\n",
    "from time import sleep\n",
    "\n",
    "# parsing configuration\n",
    "with open(\"config.yaml\", \"r\") as yaml_file:\n",
    "    config_data = yaml.load(yaml_file, Loader=yaml.FullLoader)\n",
    "\n",
    "# creating publisher client\n",
    "publisher_client = PublisherClient()\n",
    "\n",
    "# creating topic path\n",
    "topic_path = publisher_client.topic_path(project=config_data['prject_id'],\n",
    "                                         topic=config_data['topic_id'])\n",
    "\n",
    "# publishing messages\n",
    "for i in range(0,10):\n",
    "\n",
    "    # generate and encode data\n",
    "    data = {\"id\": i, \"message\": f\"test {i}\"}\n",
    "    encoded_data = json.dumps(data).encode(\"utf-8\")\n",
    "\n",
    "    # publish a message.\n",
    "    publish_future = publisher_client.publish(topic_path,\n",
    "                                              encoded_data)\n",
    "    \n",
    "    print(publish_future.result())"
   ]
  }
 ],
 "metadata": {
  "kernelspec": {
   "display_name": "Python 3",
   "language": "python",
   "name": "python3"
  },
  "language_info": {
   "codemirror_mode": {
    "name": "ipython",
    "version": 3
   },
   "file_extension": ".py",
   "mimetype": "text/x-python",
   "name": "python",
   "nbconvert_exporter": "python",
   "pygments_lexer": "ipython3",
   "version": "3.11.5"
  }
 },
 "nbformat": 4,
 "nbformat_minor": 2
}
